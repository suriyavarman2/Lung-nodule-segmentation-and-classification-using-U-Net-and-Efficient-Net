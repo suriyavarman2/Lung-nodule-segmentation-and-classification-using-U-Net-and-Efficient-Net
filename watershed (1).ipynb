{
 "cells": [
  {
   "cell_type": "code",
   "execution_count": 7,
   "metadata": {},
   "outputs": [],
   "source": [
    "\n",
    "import cv2\n",
    "import matplotlib.pyplot as plt\n",
    "import imutils\n",
    "import glob\n",
    "import numpy as np\n",
    "\n",
    "\n",
    "    \n",
    "\n",
    "def watershed(img):  \n",
    "   \n",
    "    source=img.copy()\n",
    "    shifted = cv2.pyrMeanShiftFiltering(img, 30, 30)\n",
    "\n",
    "    gray = cv2.cvtColor(shifted,cv2.COLOR_BGR2GRAY)\n",
    "\n",
    "    thresh = cv2.threshold(gray, 0, 255, cv2.THRESH_BINARY | cv2.THRESH_OTSU)[1]\n",
    "\n",
    "    kernel = np.ones((3,3),np.uint8)\n",
    "    opening = cv2.morphologyEx(thresh,cv2.MORPH_OPEN,kernel, iterations = 2)\n",
    "\n",
    "\n",
    "    sure_bg = cv2.dilate(opening,kernel,iterations=3)\n",
    "\n",
    "\n",
    "    dist_transform = cv2.distanceTransform(opening,cv2.DIST_L2,5)\n",
    "    ret, sure_fg = cv2.threshold(dist_transform,0.1*dist_transform.max(),255,0)\n",
    "\n",
    "    sure_fg = np.uint8(sure_fg)\n",
    "    unknown = cv2.subtract(sure_bg,sure_fg)\n",
    "\n",
    "\n",
    "    ret, markers = cv2.connectedComponents(sure_fg)\n",
    "\n",
    "\n",
    "    markers = markers+1\n",
    "\n",
    "    markers[unknown==255] = 0\n",
    "    markers = cv2.watershed(img,markers)\n",
    "    img[markers == -1] = [255,255,0]\n",
    "    img[markers == 1] = [0,0,0]\n",
    "    \n",
    "\n",
    "    dst = cv2.addWeighted(source, 0.5, img, 1.5, 0)\n",
    "  \n",
    "   \n",
    "    return img\n",
    "\n",
    "if __name__ == '__main__':\n",
    "    path = glob.glob(\"contourb\\*.png\")\n",
    "   # output_path='lung/beningn'\n",
    "    c=0\n",
    "\n",
    "\n",
    "    for file in path:\n",
    "        source=cv2.imread(file)\n",
    "        source1=watershed(source)\n",
    "        cv2.imwrite(f'input/beningn_new{c}.png',source1)\n",
    "\n",
    "        c+=1\n",
    "        cv2.waitKey(0)\n",
    "\n",
    "        cv2.destroyAllWindows()\n",
    "\n",
    "\n",
    "\n",
    "\n",
    "\n",
    "   "
   ]
  },
  {
   "cell_type": "code",
   "execution_count": 2,
   "metadata": {},
   "outputs": [
    {
     "data": {
      "text/plain": [
       "<matplotlib.image.AxesImage at 0x1bbdcbaf520>"
      ]
     },
     "execution_count": 2,
     "metadata": {},
     "output_type": "execute_result"
    },
    {
     "data": {
      "image/png": "[encoded data removed]",
      "text/plain": [
       "<Figure size 640x480 with 1 Axes>"
      ]
     },
     "metadata": {},
     "output_type": "display_data"
    }
   ],
   "source": [
    "import cv2\n",
    "import matplotlib.pyplot as plt\n",
    "import imutils\n",
    "import glob\n",
    "import numpy as np\n",
    "    \n",
    "\n",
    "def watershed(img):  \n",
    "   \n",
    "    source=img.copy()\n",
    "    shifted = cv2.pyrMeanShiftFiltering(img, 30, 30)\n",
    "\n",
    "    gray = cv2.cvtColor(shifted,cv2.COLOR_BGR2GRAY)\n",
    "\n",
    "    thresh = cv2.threshold(gray, 0, 255, cv2.THRESH_BINARY | cv2.THRESH_OTSU)[1]\n",
    "\n",
    "    kernel = np.ones((3,3),np.uint8)\n",
    "    opening = cv2.morphologyEx(thresh,cv2.MORPH_OPEN,kernel, iterations = 2)\n",
    "\n",
    "\n",
    "    sure_bg = cv2.dilate(opening,kernel,iterations=3)\n",
    "\n",
    "\n",
    "    dist_transform = cv2.distanceTransform(opening,cv2.DIST_L2,5)\n",
    "    ret, sure_fg = cv2.threshold(dist_transform,0.1*dist_transform.max(),255,0)\n",
    "\n",
    "    sure_fg = np.uint8(sure_fg)\n",
    "    unknown = cv2.subtract(sure_bg,sure_fg)\n",
    "\n",
    "\n",
    "    ret, markers = cv2.connectedComponents(sure_fg)\n",
    "\n",
    "\n",
    "    markers = markers+1\n",
    "\n",
    "    markers[unknown==255] = 0\n",
    "    markers = cv2.watershed(img,markers)\n",
    "    img[markers == -1] = [255,255,0]\n",
    "    img[markers == 1] = [0,0,0]\n",
    "    \n",
    "\n",
    "    dst = cv2.addWeighted(source, 0.5, img, 1.5, 0)\n",
    "  \n",
    "   \n",
    "    return img\n",
    "img = cv2.imread(\"input/malignant/malignant0.png\")\n",
    "       \n",
    "smoothed_img =watershed(img)\n",
    "plt.imshow(smoothed_img)"
   ]
  },
  {
   "cell_type": "code",
   "execution_count": null,
   "metadata": {},
   "outputs": [],
   "source": []
  }
 ],
 "metadata": {
  "kernelspec": {
   "display_name": "Python 3 (ipykernel)",
   "language": "python",
   "name": "python3"
  },
  "language_info": {
   "codemirror_mode": {
    "name": "ipython",
    "version": 3
   },
   "file_extension": ".py",
   "mimetype": "text/x-python",
   "name": "python",
   "nbconvert_exporter": "python",
   "pygments_lexer": "ipython3",
   "version": "3.9.13"
  }
 },
 "nbformat": 4,
 "nbformat_minor": 4
}
